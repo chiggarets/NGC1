{
 "cells": [
  {
   "cell_type": "markdown",
   "metadata": {},
   "source": [
    "# William wijaya RMT-029\n",
    "\n",
    "## NGC 1"
   ]
  },
  {
   "cell_type": "markdown",
   "metadata": {},
   "source": [
    "### Task 1"
   ]
  },
  {
   "cell_type": "code",
   "execution_count": 14,
   "metadata": {},
   "outputs": [
    {
     "name": "stdout",
     "output_type": "stream",
     "text": [
      "63\n"
     ]
    }
   ],
   "source": [
    "customer_id = ['B818', 'A461', 'A092', 'A082', 'B341', 'A005', \n",
    "'A092', 'A461','B219', 'B904', 'A901', 'A083', 'B904', 'A092', 'B341', \n",
    "'B821','B341', 'B821', 'B904', 'B818', 'A901', 'A083', 'B818', 'A082','B219', 'B219', \n",
    "'A083', 'A901', 'A082', 'B341', 'B341', 'A083','A082', 'B219', 'B439', 'A461', 'A005', 'A901', \n",
    "'B341', 'A082','A083', 'A461', 'A083', 'A901', 'A461', 'A083', 'A082', 'A083','B341', 'A901', 'A082', \n",
    "'A461', 'B219', 'A083', 'B818', 'B821','A092', 'B341', 'A461', 'A092', 'A083', 'B821', 'A092']\n",
    "\n",
    "#Question : How many unique customer_id from above list?\n",
    "\n",
    "print(len(customer_id)) #answer\n"
   ]
  },
  {
   "cell_type": "markdown",
   "metadata": {},
   "source": [
    "### Task 2"
   ]
  },
  {
   "cell_type": "code",
   "execution_count": 1,
   "metadata": {},
   "outputs": [
    {
     "name": "stdout",
     "output_type": "stream",
     "text": [
      "a.16\n",
      "b.[36, 49, 64, 81]\n",
      "c.[100, 81, 64, 49, 36, 25, 16, 9, 4, 1]\n"
     ]
    }
   ],
   "source": [
    "Data = [1, 4, 9, 16, 25, 36, 49,  64, 81, 100]\n",
    "\n",
    "#Question\n",
    "#Use indexing so you can get this output:\n",
    "# a.16\n",
    "# b.[36, 49, 64, 81]\n",
    "# c.[100, 81, 64, 49, 36, 25, 16, 9, 4, 1]\n",
    "\n",
    "\n",
    "#Answer\n",
    "print('a.',end='')\n",
    "print(Data[3])\n",
    "\n",
    "print('b.',end='')\n",
    "print(Data[5:9])\n",
    "\n",
    "print('c.',end='')\n",
    "Data.reverse()\n",
    "print(Data) \n",
    "    "
   ]
  },
  {
   "cell_type": "markdown",
   "metadata": {},
   "source": [
    "### Task 3"
   ]
  },
  {
   "cell_type": "code",
   "execution_count": 13,
   "metadata": {},
   "outputs": [
    {
     "name": "stdout",
     "output_type": "stream",
     "text": [
      "a. Nanggroe Aceh Darussalam\n",
      "Sumatera Selatan\n",
      "Kalimantan Barat\n",
      "Jawa Timur\n",
      "Sulawesi Selatan\n",
      "Maluku\n",
      "b. {'Nanggroe Aceh Darussalam': 'Aceh', 'Sumatera Selatan': 'Palembang', 'Kalimantan Barat': 'Pontianak', 'Jawa Timur': 'Surabaya', 'Sulawesi Selatan': 'Makassar', 'Maluku': 'Ambon'}\n"
     ]
    }
   ],
   "source": [
    "provinsi = {\n",
    "    'Nanggroe Aceh Darussalam': 'Aceh',\n",
    "    'Sumatera Selatan': 'Palembang',\n",
    "    'Kalimantan Barat': 'Pontianak',\n",
    "    'Jawa Timur': 'Madiun',\n",
    "    'Sulawesi Selatan': 'Makassar',\n",
    "    'Maluku': 'Ambon'\n",
    "}\n",
    "\n",
    "#Question\n",
    "# What python command can be use to:\n",
    "# a.Get list of keys available in dictionary\n",
    "# b.Change 'Jawa Timur' value from 'Madiun'  to 'Surabaya'\n",
    "\n",
    "print('a. ',end='')\n",
    "for keys, value in provinsi.items():\n",
    "    print(keys)\n",
    "\n",
    "print('b. ',end='')\n",
    "\n",
    "provinsi ['Jawa Timur'] = 'Surabaya'\n",
    "\n",
    "print(provinsi)\n",
    "\n",
    "\n",
    "\n"
   ]
  }
 ],
 "metadata": {
  "kernelspec": {
   "display_name": "Python 3",
   "language": "python",
   "name": "python3"
  },
  "language_info": {
   "codemirror_mode": {
    "name": "ipython",
    "version": 3
   },
   "file_extension": ".py",
   "mimetype": "text/x-python",
   "name": "python",
   "nbconvert_exporter": "python",
   "pygments_lexer": "ipython3",
   "version": "3.12.1"
  }
 },
 "nbformat": 4,
 "nbformat_minor": 2
}
